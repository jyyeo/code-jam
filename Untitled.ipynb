{
 "cells": [
  {
   "cell_type": "code",
   "execution_count": 4,
   "metadata": {},
   "outputs": [],
   "source": [
    "import numpy as np"
   ]
  },
  {
   "cell_type": "code",
   "execution_count": 98,
   "metadata": {},
   "outputs": [],
   "source": [
    "def maze_solution(i, j, maze, R, C, step, end):\n",
    "\n",
    "    # maze is complete\n",
    "    if (np.count_nonzero(maze) == R*C):\n",
    "        end = 1\n",
    "        return end, maze\n",
    "\n",
    "    else:        \n",
    "        range_R = [*range(R)]\n",
    "        range_C = [*range(C)]\n",
    "        if (step != 1):\n",
    "            range_R.remove(i)\n",
    "            range_C.remove(j)\n",
    "\n",
    "        for a in range_R:\n",
    "            for b in range_C:\n",
    "                if (maze[a][b] == 0):\n",
    "                    maze_copy = maze\n",
    "                    maze_copy[a][b] = step\n",
    "#                     print(a, b, step)\n",
    "                    end, maze_temp = maze_solution(a, b, maze_copy, R, C, step+1, end)\n",
    "#                     print(end, maze_temp)\n",
    "        if (end != 1):\n",
    "            r, c = np.where(maze == step-1)\n",
    "#             print(r, c)\n",
    "#             print(maze)\n",
    "            maze[r,c] = 0\n",
    "        \n",
    "    return end, maze        "
   ]
  },
  {
   "cell_type": "code",
   "execution_count": 104,
   "metadata": {},
   "outputs": [
    {
     "name": "stdout",
     "output_type": "stream",
     "text": [
      "2\n",
      "2 2\n",
      "Case #1: IMPOSSIBLE\n",
      "2 4\n",
      "Case #2: POSSIBLE\n",
      "1 1\n",
      "2 2\n",
      "1 3\n",
      "2 1\n",
      "1 4\n",
      "2 3\n",
      "1 2\n",
      "2 4\n"
     ]
    }
   ],
   "source": [
    "T = int(input())\n",
    "for j in range(T):\n",
    "    R, C = [int(s) for s in input().split(\" \")]\n",
    "    empty_maze = np.zeros([R,C])\n",
    "    step = 1 \n",
    "    end = 0\n",
    "    end, maze = maze_solution(0, 0, empty_maze, R, C, step, end)\n",
    "\n",
    "    # maze is possible\n",
    "#     print(np.count_nonzero(maze))\n",
    "    if (np.count_nonzero(maze) == R*C):\n",
    "        print(\"Case #{}: POSSIBLE\".format(T))\n",
    "        for i in range(1, R*C+1):\n",
    "            r, c = np.where(maze == i)\n",
    "            print(\"{} {}\". format(int(r+1), int(c+1)))\n",
    "\n",
    "    # maze is impossible\n",
    "    else:\n",
    "        print(\"Case #{}: IMPOSSIBLE\".format(j+1))"
   ]
  },
  {
   "cell_type": "markdown",
   "metadata": {},
   "source": [
    "# print(maze)"
   ]
  },
  {
   "cell_type": "code",
   "execution_count": 69,
   "metadata": {},
   "outputs": [
    {
     "name": "stdout",
     "output_type": "stream",
     "text": [
      "(1, array([[1., 5., 3., 7., 7.],\n",
      "       [4., 2., 6., 8., 8.]]))\n"
     ]
    }
   ],
   "source": [
    "print(maze)"
   ]
  },
  {
   "cell_type": "code",
   "execution_count": 25,
   "metadata": {},
   "outputs": [
    {
     "name": "stdout",
     "output_type": "stream",
     "text": [
      "[1, 2, 4, 5, 6]\n"
     ]
    }
   ],
   "source": [
    "range_R = [*range(1,6+1)]\n",
    "range_R.remove(3)\n",
    "print(range_R)"
   ]
  },
  {
   "cell_type": "code",
   "execution_count": null,
   "metadata": {},
   "outputs": [],
   "source": []
  }
 ],
 "metadata": {
  "kernelspec": {
   "display_name": "Python 3",
   "language": "python",
   "name": "python3"
  },
  "language_info": {
   "codemirror_mode": {
    "name": "ipython",
    "version": 3
   },
   "file_extension": ".py",
   "mimetype": "text/x-python",
   "name": "python",
   "nbconvert_exporter": "python",
   "pygments_lexer": "ipython3",
   "version": "3.7.4"
  }
 },
 "nbformat": 4,
 "nbformat_minor": 2
}
