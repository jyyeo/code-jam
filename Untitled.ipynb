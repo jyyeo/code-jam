{
 "cells": [
  {
   "cell_type": "code",
   "execution_count": 6,
   "metadata": {},
   "outputs": [
    {
     "name": "stdout",
     "output_type": "stream",
     "text": [
      "[0, 0, 0]\n",
      "even\n",
      "[1, 1, 1]\n",
      "[0, 2, 2]\n",
      "even\n",
      "[1, 0, 3]\n",
      "even\n",
      "[0, 1, 0]\n",
      "even\n",
      "[1, 2, 1]\n",
      "even\n",
      "[0, 0, 2]\n",
      "even\n",
      "[1, 1, 3]\n",
      "[0, 2, 0]\n",
      "even\n",
      "[1, 0, 1]\n",
      "even\n"
     ]
    }
   ],
   "source": [
    "two = 2\n",
    "three = 3\n",
    "four = 4\n",
    "for i in range(10):\n",
    "    a = i%2\n",
    "    b = i%3\n",
    "    c = i%4\n",
    "    list = [a, b, c]\n",
    "    print(list)\n",
    "    if any(i %2 == 0 for i in list):\n",
    "        print(\"even\")\n",
    "    if all(1 and 3 in )"
   ]
  },
  {
   "cell_type": "code",
   "execution_count": 16,
   "metadata": {},
   "outputs": [
    {
     "name": "stdout",
     "output_type": "stream",
     "text": [
      "[3, 7]\n"
     ]
    }
   ],
   "source": [
    "newlist = [1,2,3,4,1,2,3,4]\n",
    "index = [i for i in range(len(newlist)) if newlist[i] == 4]\n",
    "print(index)"
   ]
  },
  {
   "cell_type": "code",
   "execution_count": 28,
   "metadata": {},
   "outputs": [
    {
     "name": "stdout",
     "output_type": "stream",
     "text": [
      "[[1, 2, 3], [2, 3, 4], [4, 5, 6, 7], 42, [12, 2, 4]]\n",
      "[[1, 2, 3], 42, [12, 2, 4]]\n"
     ]
    }
   ],
   "source": [
    "newlist = [[1,2,3], [2,3,4],[4,5,6,7],42,[12,2,4]]\n",
    "print(newlist)\n",
    "index = [1,2]\n",
    "# del newlist[index[i] for i in index]\n",
    "# print(newlist)\n",
    "newlist = [newlist[i] for i in range(len(newlist)) if i not in index]\n",
    "print(newlist)"
   ]
  },
  {
   "cell_type": "code",
   "execution_count": null,
   "metadata": {},
   "outputs": [],
   "source": []
  }
 ],
 "metadata": {
  "kernelspec": {
   "display_name": "Python 3",
   "language": "python",
   "name": "python3"
  },
  "language_info": {
   "codemirror_mode": {
    "name": "ipython",
    "version": 3
   },
   "file_extension": ".py",
   "mimetype": "text/x-python",
   "name": "python",
   "nbconvert_exporter": "python",
   "pygments_lexer": "ipython3",
   "version": "3.7.4"
  }
 },
 "nbformat": 4,
 "nbformat_minor": 2
}
