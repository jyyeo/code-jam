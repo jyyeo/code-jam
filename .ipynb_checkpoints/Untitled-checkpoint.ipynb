{
 "cells": [
  {
   "cell_type": "code",
   "execution_count": 3,
   "metadata": {},
   "outputs": [],
   "source": [
    "new_list =[1,2,2,3,4,5,5]\n",
    "\n",
    "if new_list[1] in new_list[3::]:\n",
    "    print(\"true\")"
   ]
  },
  {
   "cell_type": "code",
   "execution_count": 71,
   "metadata": {},
   "outputs": [
    {
     "name": "stdout",
     "output_type": "stream",
     "text": [
      "3\n",
      "ma\n",
      "[['ma', ''], ['', '']]\n"
     ]
    }
   ],
   "source": [
    "substr = [[\"\" for i in range(2)] for j in range(2)]\n",
    "words = [\"mah\", \"majedoc\"]\n",
    "# words[0] = \"water\"\n",
    "# words[1] = \"ater\"\n",
    "\n",
    "substr_length = []\n",
    "i = 0\n",
    "N = 2\n",
    "substr_length = max(([i for i in range(len(words[0])) if words[0][0:i] == words[1][0:i]]))+1\n",
    "print(substr_length)\n",
    "print(words[0][0:2])\n",
    "substr[0][0] = words[0][0:2]\n",
    "print(substr)"
   ]
  },
  {
   "cell_type": "code",
   "execution_count": 49,
   "metadata": {},
   "outputs": [
    {
     "data": {
      "text/plain": [
       "'mah'"
      ]
     },
     "execution_count": 49,
     "metadata": {},
     "output_type": "execute_result"
    }
   ],
   "source": [
    "words[0][0:3] "
   ]
  },
  {
   "cell_type": "code",
   "execution_count": 1,
   "metadata": {},
   "outputs": [
    {
     "name": "stdout",
     "output_type": "stream",
     "text": [
      "[[1, 1, 1], [1, 1, 1], [1, 1, 1]]\n"
     ]
    }
   ],
   "source": [
    "lis = [[0] * 3 for _ in range(3)]\n",
    "for x in lis: x = [s for s in x if s != 0]\n",
    "lis = [[1 for ele in sub if ele == 0] for sub in lis] \n",
    "  \n",
    "print(lis)\n"
   ]
  },
  {
   "cell_type": "code",
   "execution_count": 8,
   "metadata": {},
   "outputs": [
    {
     "data": {
      "text/plain": [
       "3"
      ]
     },
     "execution_count": 8,
     "metadata": {},
     "output_type": "execute_result"
    }
   ],
   "source": [
    "max([])"
   ]
  },
  {
   "cell_type": "code",
   "execution_count": null,
   "metadata": {},
   "outputs": [],
   "source": []
  }
 ],
 "metadata": {
  "kernelspec": {
   "display_name": "Python 3",
   "language": "python",
   "name": "python3"
  },
  "language_info": {
   "codemirror_mode": {
    "name": "ipython",
    "version": 3
   },
   "file_extension": ".py",
   "mimetype": "text/x-python",
   "name": "python",
   "nbconvert_exporter": "python",
   "pygments_lexer": "ipython3",
   "version": "3.7.4"
  }
 },
 "nbformat": 4,
 "nbformat_minor": 2
}
